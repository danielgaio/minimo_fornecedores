{
 "metadata": {
  "language_info": {
   "codemirror_mode": {
    "name": "ipython",
    "version": 3
   },
   "file_extension": ".py",
   "mimetype": "text/x-python",
   "name": "python",
   "nbconvert_exporter": "python",
   "pygments_lexer": "ipython3",
   "version": 3
  },
  "orig_nbformat": 2
 },
 "nbformat": 4,
 "nbformat_minor": 2,
 "cells": [
  {
   "cell_type": "code",
   "execution_count": null,
   "metadata": {},
   "outputs": [],
   "source": [
    "# Pré Processamento\n",
    "\n",
    "#Leitura do CSV capturando apenas o fornecedor e item em uma nova matriz chamada dados\n",
    "\n",
    "#Ordenar a matriz agrupando itens por fornecedor, ou seja, f1 - todos os seus itens, f2 - todos os seus itens,...\n",
    "\n",
    "# Pegar lista de compras e verificar em cada fornecedor quantos itens da lista ele possui e armazenar em um vetor quantidade_itens_fornecedor sendo: [2, 4, 1, 0] => [f1, f2, f3, f4]\n",
    "\n",
    "# Função Recursiva\n",
    "\n",
    "qtd_itens_lista = 10    # quantidade de itens sendo comprados, 10 eh exemplo\n",
    "#listaComplas=[]\n",
    "# moedas[] equivale ao vetor quantidade_itens_fornecedor\n",
    "\n",
    "quantidade_itens_fornecedor = [2, 4, 1, 6]\n",
    "\n",
    "quantidade_fornecedores = len(quantidade_itens_fornecedor)\n",
    "\n",
    "memoria = [[None for _ in range(qtd_itens_lista + 1)] for _ in range(quantidade_fornecedores)] #insere none \n",
    "\n",
    "# print(memoria)\n",
    "\n",
    "def solucao_fornecimento(quantidade_restante,indice_fornecedor_atual:int=0):\n",
    "    if(quantidade_restante==0): # todos os itens foram comprados ou fornecidos\n",
    "        return 0\n",
    "    if quantidade_restante>0 and indice_fornecedor_atual==quantidade_fornecedores:  # foi passado por todos os fornecedores e náo deu pra comprar todos os itens\n",
    "        return float(\"inf\")\n",
    "    if(quantidade_restante<0):\n",
    "        return float(\"inf\")\n",
    "    if(memoria[indice_fornecedor_atual][quantidade_restante] is None):\n",
    "        print(memoria[indice_fornecedor_atual][quantidade_restante])\n",
    "        pega_produto = 1 + solucao_fornecimento((quantidade_restante-quantidade_itens_fornecedor[indice_fornecedor_atual]),indice_fornecedor_atual)\n",
    "        nao_pega_produto = solucao_fornecimento(quantidade_restante,indice_fornecedor_atual+1)\n",
    "        memoria[indice_fornecedor_atual][quantidade_restante]=min(pega_produto,nao_pega_produto)\n",
    "    return memoria[indice_fornecedor_atual][quantidade_restante]\n",
    "\n",
    "print(solucao_fornecimento(qtd_itens_lista))"
   ]
  }
 ]
}